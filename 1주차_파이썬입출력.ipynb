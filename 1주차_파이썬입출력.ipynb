{
 "cells": [
  {
   "cell_type": "markdown",
   "id": "78d1ad29",
   "metadata": {},
   "source": [
    "# input()"
   ]
  },
  {
   "cell_type": "code",
   "execution_count": 2,
   "id": "5702d29a",
   "metadata": {},
   "outputs": [
    {
     "name": "stdout",
     "output_type": "stream",
     "text": [
      "10\n"
     ]
    }
   ],
   "source": [
    "a = input() # 한 줄 입력"
   ]
  },
  {
   "cell_type": "code",
   "execution_count": 3,
   "id": "38426a35",
   "metadata": {},
   "outputs": [
    {
     "name": "stdout",
     "output_type": "stream",
     "text": [
      "10\n"
     ]
    }
   ],
   "source": [
    "a = int(input()) # 한 줄 입력 된 값을 숫자로 변환"
   ]
  },
  {
   "cell_type": "code",
   "execution_count": 5,
   "id": "8f0bf34a",
   "metadata": {},
   "outputs": [
    {
     "name": "stdout",
     "output_type": "stream",
     "text": [
      "10 20\n"
     ]
    }
   ],
   "source": [
    "a = input().split() # 구분자(공백)을 포함한 한 줄을 리스트로 받기"
   ]
  },
  {
   "cell_type": "code",
   "execution_count": 6,
   "id": "cbd00bb0",
   "metadata": {},
   "outputs": [
    {
     "name": "stdout",
     "output_type": "stream",
     "text": [
      "10 20\n"
     ]
    }
   ],
   "source": [
    "a = list(map(int, input().split())) # 구분자(꽁백)을 포함한 한 줄을 숫자형 리스트로 받기"
   ]
  },
  {
   "cell_type": "code",
   "execution_count": 11,
   "id": "c66892f5",
   "metadata": {},
   "outputs": [
    {
     "name": "stdout",
     "output_type": "stream",
     "text": [
      "3 1 2 3\n",
      "a: 3\n",
      "b: [1, 2, 3]\n"
     ]
    }
   ],
   "source": [
    "a, *b = map(int, input().split()) # 가변 인자 받기 3 1 2 3 -> a, b = [1, 2, 3]\n",
    "print('a:',a)\n",
    "print('b:',b)"
   ]
  },
  {
   "cell_type": "markdown",
   "id": "f108b3f3",
   "metadata": {},
   "source": [
    "### 일차원 배열 초기화 하기\n"
   ]
  },
  {
   "cell_type": "code",
   "execution_count": 17,
   "id": "deef5157",
   "metadata": {},
   "outputs": [
    {
     "name": "stdout",
     "output_type": "stream",
     "text": [
      "[0, 0, 0, 0, 0, 0, 0, 0, 0, 0]\n"
     ]
    }
   ],
   "source": [
    "a = list()\n",
    "for _ in range(10):\n",
    "    a.append(0)\n",
    "print(a)"
   ]
  },
  {
   "cell_type": "code",
   "execution_count": 18,
   "id": "1a0212bb",
   "metadata": {},
   "outputs": [
    {
     "name": "stdout",
     "output_type": "stream",
     "text": [
      "[0, 0, 0, 0, 0, 0, 0, 0, 0, 0]\n"
     ]
    }
   ],
   "source": [
    "b = [0 for _ in range(10)]\n",
    "print(b)"
   ]
  },
  {
   "cell_type": "code",
   "execution_count": 19,
   "id": "0d4083bb",
   "metadata": {},
   "outputs": [
    {
     "name": "stdout",
     "output_type": "stream",
     "text": [
      "[0, 0, 0, 0, 0, 0, 0, 0, 0, 0]\n"
     ]
    }
   ],
   "source": [
    "c = [0] * 10\n",
    "print(c)"
   ]
  },
  {
   "cell_type": "markdown",
   "id": "df6e8918",
   "metadata": {},
   "source": [
    "### 이차원 배열 초기화 하기"
   ]
  },
  {
   "cell_type": "code",
   "execution_count": 33,
   "id": "d1063245",
   "metadata": {},
   "outputs": [
    {
     "name": "stdout",
     "output_type": "stream",
     "text": [
      "3 3\n",
      "123\n",
      "123\n",
      "123\n",
      "[[1, 2, 3], [1, 2, 3], [1, 2, 3]]\n"
     ]
    }
   ],
   "source": [
    "n, m = map(int, input().split())\n",
    "a = [list(map(int, input())) for _ in range(n)]\n",
    "print(a) # 공백없이 입력받기"
   ]
  },
  {
   "cell_type": "code",
   "execution_count": 35,
   "id": "fa6326f1",
   "metadata": {},
   "outputs": [
    {
     "name": "stdout",
     "output_type": "stream",
     "text": [
      "3 3\n",
      "1 2 3\n",
      "1 2 3\n",
      "1 2 3\n",
      "[[1, 2, 3], [1, 2, 3], [1, 2, 3]]\n"
     ]
    }
   ],
   "source": [
    "n, m = map(int, input().split())\n",
    "b = [list(map(int, input().split())) for _ in range(n)]\n",
    "print(b) # 공백존재"
   ]
  },
  {
   "cell_type": "code",
   "execution_count": 38,
   "id": "397eaf9c",
   "metadata": {},
   "outputs": [
    {
     "name": "stdout",
     "output_type": "stream",
     "text": [
      "3 3\n",
      "[[0, 0, 0], [0, 0, 0], [0, 0, 0]]\n"
     ]
    }
   ],
   "source": [
    "n, m = map(int, input().split())\n",
    "c = [[0] * n for _ in range(m)]\n",
    "print(c)"
   ]
  },
  {
   "cell_type": "markdown",
   "id": "43ede3eb",
   "metadata": {},
   "source": [
    "# print()\n",
    "#### _print('input_code', sep='', end='')_\n",
    "\n",
    "##### sep과 end 생략가능\n"
   ]
  },
  {
   "cell_type": "code",
   "execution_count": 39,
   "id": "0f51a57d",
   "metadata": {},
   "outputs": [
    {
     "name": "stdout",
     "output_type": "stream",
     "text": [
      "hello remember\n"
     ]
    }
   ],
   "source": [
    "print('hello remember')"
   ]
  },
  {
   "cell_type": "code",
   "execution_count": 41,
   "id": "e6425890",
   "metadata": {},
   "outputs": [
    {
     "name": "stdout",
     "output_type": "stream",
     "text": [
      "hello remember\n"
     ]
    }
   ],
   "source": [
    "print('hello','remember')"
   ]
  },
  {
   "cell_type": "code",
   "execution_count": 46,
   "id": "c397d4f0",
   "metadata": {
    "scrolled": false
   },
   "outputs": [
    {
     "name": "stdout",
     "output_type": "stream",
     "text": [
      "hello remember\n",
      "welcome\n"
     ]
    }
   ],
   "source": [
    "print('hello remember')\n",
    "print('welcome')"
   ]
  },
  {
   "cell_type": "markdown",
   "id": "4cf579a9",
   "metadata": {},
   "source": [
    "### end"
   ]
  },
  {
   "cell_type": "code",
   "execution_count": 48,
   "id": "eb22a9a4",
   "metadata": {},
   "outputs": [
    {
     "name": "stdout",
     "output_type": "stream",
     "text": [
      "hello remember welcome\n"
     ]
    }
   ],
   "source": [
    "print('hello remember', end=' ') #줄바꿈이 사라짐\n",
    "print('welcome')"
   ]
  },
  {
   "cell_type": "markdown",
   "id": "5c5e98a8",
   "metadata": {},
   "source": [
    "## 문제.1\n",
    "### 0 ~ 9까지 반복문을 사용하여 1줄로 표시를 해보세요"
   ]
  },
  {
   "cell_type": "code",
   "execution_count": 56,
   "id": "366c5f31",
   "metadata": {},
   "outputs": [
    {
     "name": "stdout",
     "output_type": "stream",
     "text": [
      "0\n",
      "1\n",
      "2\n",
      "3\n",
      "4\n",
      "5\n",
      "6\n",
      "7\n",
      "8\n",
      "9\n"
     ]
    }
   ],
   "source": [
    "for i in range(10):\n",
    "    print(i)"
   ]
  },
  {
   "cell_type": "code",
   "execution_count": 54,
   "id": "5a9ff5e9",
   "metadata": {},
   "outputs": [
    {
     "name": "stdout",
     "output_type": "stream",
     "text": [
      "0 1 2 3 4 5 6 7 8 9 "
     ]
    }
   ],
   "source": [
    "# insert code\n"
   ]
  },
  {
   "cell_type": "markdown",
   "id": "af0e95ca",
   "metadata": {},
   "source": [
    "### sep"
   ]
  },
  {
   "cell_type": "code",
   "execution_count": 57,
   "id": "25577e6a",
   "metadata": {},
   "outputs": [
    {
     "name": "stdout",
     "output_type": "stream",
     "text": [
      "hello_remember_welcome\n"
     ]
    }
   ],
   "source": [
    "print('hello','remember', 'welcome', sep='_')"
   ]
  },
  {
   "cell_type": "code",
   "execution_count": 68,
   "id": "9fd4197b",
   "metadata": {},
   "outputs": [
    {
     "name": "stdout",
     "output_type": "stream",
     "text": [
      "my name is 리멤버 입니다.\n"
     ]
    }
   ],
   "source": [
    "print('my name is %s 입니다.'%('리멤버'))"
   ]
  },
  {
   "cell_type": "markdown",
   "id": "707c13e3",
   "metadata": {},
   "source": [
    "### 마무리"
   ]
  },
  {
   "cell_type": "code",
   "execution_count": 71,
   "id": "81fb66e9",
   "metadata": {},
   "outputs": [
    {
     "name": "stdout",
     "output_type": "stream",
     "text": [
      "2021년도 2학기 동아리 이름은 remember이고, 지도교수님은 이종혁 입니다.\n"
     ]
    }
   ],
   "source": [
    "print(\"2021년도 %d학기 동아리 이름은 %s이고, 지도교수님은 %s 입니다.\"%(2, 'remember', '이종혁'))"
   ]
  },
  {
   "cell_type": "code",
   "execution_count": 63,
   "id": "7c2e7e35",
   "metadata": {},
   "outputs": [
    {
     "name": "stdout",
     "output_type": "stream",
     "text": [
      "나이는 23이고 성별은 남자입니다.\n"
     ]
    }
   ],
   "source": [
    "print('나이는 {0}이고 성별은 {1}입니다.'.format(23, '남자'))"
   ]
  },
  {
   "cell_type": "code",
   "execution_count": 65,
   "id": "a5c68640",
   "metadata": {},
   "outputs": [
    {
     "name": "stdout",
     "output_type": "stream",
     "text": [
      "나이는 23이고 성별은 남자입니다.\n"
     ]
    }
   ],
   "source": [
    "print('나이는 {}이고 성별은 {}입니다.'.format(23, '남자')) #숫자 생략가능"
   ]
  },
  {
   "cell_type": "code",
   "execution_count": null,
   "id": "43a9700a",
   "metadata": {},
   "outputs": [],
   "source": []
  }
 ],
 "metadata": {
  "kernelspec": {
   "display_name": "Python 3",
   "language": "python",
   "name": "python3"
  },
  "language_info": {
   "codemirror_mode": {
    "name": "ipython",
    "version": 3
   },
   "file_extension": ".py",
   "mimetype": "text/x-python",
   "name": "python",
   "nbconvert_exporter": "python",
   "pygments_lexer": "ipython3",
   "version": "3.6.13"
  }
 },
 "nbformat": 4,
 "nbformat_minor": 5
}
